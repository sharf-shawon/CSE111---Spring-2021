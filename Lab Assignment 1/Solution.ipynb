{
 "cells": [
  {
   "cell_type": "markdown",
   "metadata": {},
   "source": [
    "# CSE111: Lab Assignment # 1\n",
    "\n",
    "- Submitted By: **[Md Sharfuddin Shawon](https://shawon.xyz)**  \n",
    "- Student ID: **20101221**  "
   ]
  },
  {
   "cell_type": "markdown",
   "metadata": {},
   "source": [
    "---\n",
    "## Part 1: String"
   ]
  },
  {
   "cell_type": "markdown",
   "metadata": {},
   "source": [
    "### Problem # 1\n",
    "From a given string, print the string in all uppercase if the number of uppercase\n",
    "letters is more than lowercase letters. Otherwise, if lowercase is greater or equal\n",
    "to uppercase letters, print all lowercase. The inputs will contain letters (A-Z, a-z)\n",
    "only."
   ]
  },
  {
   "cell_type": "code",
   "execution_count": null,
   "metadata": {},
   "outputs": [],
   "source": [
    "userInput = input(\"Enter a string: \")\n",
    "# userInput = \"ApplE\"\n",
    "# userInput = \"BaNaNa\"\n",
    "\n",
    "uppercaseCount = 0\n",
    "lowercaseCount = 0\n",
    "for c in userInput:\n",
    "    if ord('A') <= ord(c) <= ord('Z'):\n",
    "        uppercaseCount += 1 \n",
    "    elif ord('a') <= ord(c) <= ord('z'):\n",
    "            lowercaseCount += 1 \n",
    "\n",
    "def toUpper(str):\n",
    "    output = \"\"\n",
    "    for c in str:\n",
    "        if ord('a') <= ord(c) <= ord('z'):\n",
    "            output += chr(ord(c) - 32) \n",
    "        else:\n",
    "            output += c\n",
    "    return output\n",
    "\n",
    "def toLower(str):\n",
    "    output = \"\"\n",
    "    for c in str:\n",
    "        output += chr(ord(c) + 32) if ord('A') <= ord(c) <= ord('Z') else c\n",
    "    return output\n",
    "\n",
    "if(uppercaseCount > lowercaseCount):\n",
    "    print(toUpper(userInput))\n",
    "else:\n",
    "    print(toLower(userInput))\n",
    "\n"
   ]
  },
  {
   "cell_type": "markdown",
   "metadata": {},
   "source": [
    "### Problem # 2\n",
    "Given a string, print whether it is a number, word or mixed with digit and letters.\n",
    "If all the characters are numeric values, print NUMBER. If they are all letters, print\n",
    "WORD. If it is mixed, print MIXED."
   ]
  },
  {
   "cell_type": "code",
   "execution_count": null,
   "metadata": {},
   "outputs": [],
   "source": [
    "userInput = input(\"Enter a string: \")\n",
    "# userInput = \"213213\"\n",
    "# userInput = \"jhg231j213\"\n",
    "# userInput = \"Hello\"\n",
    "\n",
    "hasNumbers = False\n",
    "hasLetters = False\n",
    "\n",
    "for c in userInput:\n",
    "    if c in '0123456789':\n",
    "        hasNumbers = True;\n",
    "    else:\n",
    "        hasLetters = True;\n",
    "    if hasNumbers and hasLetters: \n",
    "        #no need to loop through the whole string if both number and letters have been found already\n",
    "        break;\n",
    "\n",
    "if hasNumbers and hasLetters:\n",
    "    print('MIXED')\n",
    "elif hasLetters:\n",
    "    print('WORD')\n",
    "elif hasNumbers:\n",
    "    print('NUMBER')"
   ]
  },
  {
   "cell_type": "markdown",
   "metadata": {},
   "source": [
    "### Problem # 3\n",
    "In a given string, there will be two uppercase letters in between some lowercase\n",
    "letters. Print the substring from the first uppercase letter to the last uppercase letter\n",
    "excluding them. If there are no letters in between them, print the word BLANK. It\n",
    "is guaranteed that there will be only two uppercase letters in the string."
   ]
  },
  {
   "cell_type": "code",
   "execution_count": null,
   "metadata": {},
   "outputs": [],
   "source": [
    "\n",
    "\n",
    "userInput = input(\"Enter a string: \")\n",
    "# userInput = \"baNgladEsh\"\n",
    "# userInput = \"coDIng\"\n",
    "\n",
    "capture = False\n",
    "output = \"\"\n",
    "\n",
    "for c in userInput:\n",
    "    if ord('A') <= ord(c) <= ord('Z'):\n",
    "        capture = not capture\n",
    "    elif(capture):\n",
    "        output += c\n",
    "\n",
    "print(\"BLANK\" if output == \"\" else output)"
   ]
  },
  {
   "cell_type": "markdown",
   "metadata": {},
   "source": [
    "### Problem # 4\n",
    "Write a Python program to find the first appearance of the substring 'too' and\n",
    "'good' from a given string. If 'good' follows the 'too', replace the whole 'too'' good'\n",
    "substring with 'excellent' and print the resulting string. If the above does not\n",
    "appear, print the string as it is.\n"
   ]
  },
  {
   "cell_type": "code",
   "execution_count": null,
   "metadata": {},
   "outputs": [],
   "source": [
    "userInput = input(\"Enter a string: \")\n",
    "# userInput = \"The book is not too good!\"\n",
    "# userInput = \"This book is good too!\"\n",
    "\n",
    "search = \"too good\"\n",
    "replace = \"excellent\"\n",
    "\n",
    "if search in userInput:\n",
    "    head = userInput[:userInput.index('too good'):]\n",
    "    tail = userInput[userInput.index('too good')+len(search):]\n",
    "    print(head+replace+tail)\n",
    "else:\n",
    "    print(userInput)"
   ]
  },
  {
   "cell_type": "markdown",
   "metadata": {},
   "source": [
    "### Problem # 5\n",
    "Create a string from two given strings by concatenating common characters of the given strings."
   ]
  },
  {
   "cell_type": "code",
   "execution_count": null,
   "metadata": {},
   "outputs": [],
   "source": [
    "str1 = input(\"Enter string 1: \")\n",
    "str2 = input(\"Enter string 2: \")\n",
    "\n",
    "# str1 = \"harry\"\n",
    "# str2 = \"hermione\"\n",
    "\n",
    "# str1 = \"dean\"\n",
    "# str2 = \"tom\"\n",
    "\n",
    "output = \"\"\n",
    "for c in str1:\n",
    "    if c in str2:\n",
    "        output += c\n",
    "for c in str2:\n",
    "    if c in str1:\n",
    "        output += c\n",
    "print(output if output != \"\" else \"Nothing in common.\")"
   ]
  },
  {
   "cell_type": "markdown",
   "metadata": {},
   "source": [
    "### Problem # 6\n",
    "Again, you have lost your USIS password!! You went to the registrar office and\n",
    "requested for a new password. This time, you need to follow some rules to set your\n",
    "password. Otherwise, they won't change it. The rules are\n",
    "\n",
    "    * At least one lowercase letter\n",
    "    * At least one uppercase letter\n",
    "    * At least one digit (0-9)\n",
    "    * At least one special character (_ , $ , #, @)\n",
    "\n",
    "Your task is to find whether a given password follows all those rules. If it breaks\n",
    "any rule, you have to print Lowercase Missing, Uppercase Missing, Digit Missing\n",
    "or Special Missing respective to the missing case. For more than one rule break,\n",
    "print all the rules that were broken (order doesn't matter). If the password is ok,\n",
    "print OK."
   ]
  },
  {
   "cell_type": "code",
   "execution_count": null,
   "metadata": {},
   "outputs": [],
   "source": [
    "password = input(\"Enter new password: \")\n",
    "# password = \"ohMyBR@CU\"\n",
    "# password = \"ohmybracu\"\n",
    "# password = \"OhMyBR@CU20\"\n",
    "\n",
    "lowercase = False\n",
    "uppercase = False\n",
    "digit = False\n",
    "special = False\n",
    "\n",
    "for c in password:\n",
    "    if ord('A') <= ord(c) <= ord('Z'):\n",
    "        uppercase = True\n",
    "    elif ord('a') <= ord(c) <= ord('z'):\n",
    "        lowercase = True\n",
    "    elif c in \"0123456789\":\n",
    "        digit = True\n",
    "    elif c in \"_$#@\":\n",
    "        special = True\n",
    "\n",
    "if lowercase and uppercase and digit and special:\n",
    "    print(\"OK\")\n",
    "else:\n",
    "    output = \"\"\n",
    "    if not lowercase:\n",
    "        output += \"Lowercase missing\"\n",
    "    if not uppercase:\n",
    "        output += \", \" if output != \"\" else \"\"\n",
    "        output += \"Uppercase missing\"\n",
    "    if not digit:\n",
    "        output += \", \" if output != \"\" else \"\"\n",
    "        output += \"Digit missing\"\n",
    "    if not special:\n",
    "        output += \", \" if output != \"\" else \"\"\n",
    "        output += \"Special missing\"    \n",
    "    print(output)"
   ]
  },
  {
   "cell_type": "markdown",
   "metadata": {},
   "source": [
    "---\n",
    "## Part 2: List"
   ]
  },
  {
   "cell_type": "markdown",
   "metadata": {},
   "source": [
    "### Problem # 1\n",
    "Write a python program which prints the frequency of the numbers that were given\n",
    "as input by the user. Stop taking input when you find the string “STOP”. Do not\n",
    "print the frequency of numbers that were not given as input."
   ]
  },
  {
   "cell_type": "code",
   "execution_count": null,
   "metadata": {},
   "outputs": [],
   "source": [
    "inputList = []\n",
    "shouldContinue = True\n",
    "while shouldContinue:\n",
    "    userInput = input(\"Enter a number or say STOP: \")\n",
    "    if userInput == \"STOP\":\n",
    "        shouldContinue = False\n",
    "    else:\n",
    "        inputList.append(userInput)\n",
    "\n",
    "for e in inputList:\n",
    "    print(\"{} - {} times\".format(e, inputList.count(e)))\n",
    "    for x in inputList:\n",
    "        if x is e:\n",
    "            inputList.remove(x)"
   ]
  },
  {
   "cell_type": "markdown",
   "metadata": {},
   "source": [
    "### Problem # 2\n",
    "Write a python program that calculates the sum of N given lists and prints the highest sum and its respective list. Input starts with N and followed by N lists.\n"
   ]
  },
  {
   "cell_type": "code",
   "execution_count": null,
   "metadata": {},
   "outputs": [],
   "source": [
    "inputNumber = input(\"How many lists you wish to enter? \")\n",
    "for i in range(0, int(inputNumber)):\n",
    "    userInput = input(\"({}/{})  Enter a list of numbers separated by space: \".format(i+1, inputNumber))\n",
    "    userInput = userInput.split(\" \")\n",
    "    sum = 0\n",
    "    for e in userInput:\n",
    "        sum += int(e)\n",
    "    if i == 0:\n",
    "        highestSum = sum\n",
    "        highSumList= userInput\n",
    "    elif sum > highestSum:\n",
    "            highestSum = sum\n",
    "            highSumList= userInput\n",
    "\n",
    "print(highestSum)\n",
    "print(highSumList)"
   ]
  },
  {
   "cell_type": "markdown",
   "metadata": {},
   "source": [
    "### Problem # 3\n",
    "Write a python program that prints a list which contains cross multiplication between two given lists."
   ]
  },
  {
   "cell_type": "code",
   "execution_count": null,
   "metadata": {},
   "outputs": [],
   "source": [
    "listOne = input(\"Enter list ONE of numbers separated by space: \")\n",
    "listTwo = input(\"Enter list TWO of numbers separated by space: \")\n",
    "outputList = []\n",
    "for i in listOne.split(\" \"):\n",
    "    for j in listTwo.split(\" \"):\n",
    "        outputList.append(int(i)*int(j))\n",
    "\n",
    "print(outputList)"
   ]
  },
  {
   "cell_type": "markdown",
   "metadata": {},
   "source": [
    "### Problem # 4\n",
    "Let there are N numbers in a list and that list is said to be a UB Jumper if the\n",
    "absolute values of the difference between the successive elements take on all the\n",
    "values 1 through N − 1. For example, 2 1 4 6 10 is a UB Jumper because the absolute\n",
    "differences between them are 1 3 2 4 which is all numbers from 1 to (5 - 1) or 4.\n",
    "\n",
    "Write a python program that takes a number sequence as input and prints\n",
    "whether it is a UB Jumper or Not UB Jumper. Input will stop after getting\n",
    "“STOP” as input. (Number order or absolute difference order doesn’t follow any\n",
    "sequence.)"
   ]
  },
  {
   "cell_type": "code",
   "execution_count": null,
   "metadata": {},
   "outputs": [],
   "source": [
    "while True:\n",
    "    userInput = input(\"Enter a list of numbers separated by space or say STOP: \")\n",
    "    if userInput == \"STOP\":\n",
    "        break;\n",
    "    else:\n",
    "        diffs = []\n",
    "        userInput = userInput.split(\" \")\n",
    "        for i in range(0, len(userInput)):\n",
    "            if(i < len(userInput) - 1):\n",
    "                diffs.append(abs(int(userInput[i]) - int(userInput[i+1])))\n",
    "        diffs.sort()\n",
    "        for i in range(1, len(userInput)):\n",
    "            if i not in diffs:\n",
    "                print(\"Not \", end=\"\")\n",
    "                break;\n",
    "        print(\"UB Jumper\")\n",
    "                "
   ]
  },
  {
   "cell_type": "markdown",
   "metadata": {},
   "source": [
    "### Problem # 5\n",
    "You are given a string that contains alphanumeric characters only. Your task is to\n",
    "sort the string in the following manner:\n",
    "1. All sorted lowercase letters are ahead of uppercase letters.\n",
    "1. All sorted uppercase letters are ahead of digits.\n",
    "1. All sorted odd digits are ahead of sorted even digits."
   ]
  },
  {
   "cell_type": "code",
   "execution_count": null,
   "metadata": {},
   "outputs": [],
   "source": [
    "userInput = input(\"Enter an alphanumeric string:\")\n",
    "uppercase = []\n",
    "lowercase = []\n",
    "odds = []\n",
    "evens = []\n",
    "for c in userInput:\n",
    "    if ord('A') <= ord(c) <= ord('Z'):\n",
    "        uppercase.append(c)\n",
    "    elif ord('a') <= ord(c) <= ord('z'):\n",
    "        lowercase.append(c)\n",
    "    elif c in \"13579\":\n",
    "        odds.append(c)\n",
    "    elif c in \"02468\":\n",
    "        evens.append(c)\n",
    "uppercase.sort()\n",
    "lowercase.sort()\n",
    "odds.sort()\n",
    "evens.sort()\n",
    "output = lowercase + uppercase + odds + evens\n",
    "for i in output:\n",
    "    print(i, end=\"\")"
   ]
  },
  {
   "cell_type": "markdown",
   "metadata": {},
   "source": [
    "### Problem # 6\n",
    "BRACU has n students who are regular competitive programmers. According\n",
    "to the ACM ICPC rules, each person can participate in the regional championship\n",
    "at most 5 times.\n",
    "\n",
    "The head of the BRACU ACM Chapter is recently gathering teams to participate\n",
    "in this championship. Each team must consist of exactly three people, at that, any\n",
    "person cannot be a member of two or more teams. What maximum number of teams\n",
    "can the head make if he wants each team to participate in the world championship\n",
    "with the same members at least k times?\n",
    "\n",
    "The first line of input contains two integers, n and k. The next line contains n\n",
    "integers: y1,y2, ...,yn (0≤ yi≤ 5), where yi shows the number of times the i-thperson\n",
    "participated in the ACM ICPC Regional."
   ]
  },
  {
   "cell_type": "code",
   "execution_count": null,
   "metadata": {},
   "outputs": [],
   "source": [
    "import math\n",
    "\n",
    "\n",
    "userInput = input(\"Enter n & k: \")\n",
    "userInput = userInput.split(\" \")\n",
    "n = int(userInput[0])\n",
    "k = int(userInput[1])\n",
    "userInput = input(\"Enter y1,y2, ...,yn: \")\n",
    "y = userInput.split(\" \")\n",
    "y.sort()\n",
    "count = 0;\n",
    "if len(userInput) >= n:\n",
    "    for i in range(n):\n",
    "        if (int(y[i]) + k) <= 5:\n",
    "            count += 1\n",
    "        else:\n",
    "            break;\n",
    "print(math.floor(count/3))"
   ]
  },
  {
   "cell_type": "markdown",
   "metadata": {},
   "source": [
    "---\n",
    "## Part 2: Dictionary & Tuple"
   ]
  },
  {
   "cell_type": "markdown",
   "metadata": {},
   "source": [
    "### Problem # 1\n",
    "Write a Python program to combine two dictionaries into one by adding values for\n",
    "common keys. Input contains two comma separated dictionaries. Print the new\n",
    "dictionary and create a tuple which contains unique values in sorted order."
   ]
  },
  {
   "cell_type": "code",
   "execution_count": null,
   "metadata": {},
   "outputs": [],
   "source": [
    "userInputs = []\n",
    "userInputs.append(input('Enter first comma separated dictionary: '))\n",
    "userInputs.append(input('Enter second comma separated dictionary: '))\n",
    "outputDict = {}\n",
    "uniqueValues = []\n",
    "\n",
    "for userInput in userInputs:\n",
    "    for item in userInput.split(\",\"):\n",
    "        item = item.split(\":\")\n",
    "        key = item[0].strip()\n",
    "        value = item[1].strip()\n",
    "\n",
    "        if key in outputDict:\n",
    "            outputDict[key].append(value)\n",
    "        else:\n",
    "            outputDict[key] = [value]\n",
    "            \n",
    "for k, v in outputDict.items():\n",
    "    sum = 0\n",
    "    for x in v:\n",
    "        x = int(x)\n",
    "        if not x in uniqueValues:\n",
    "            uniqueValues.append(x)\n",
    "        sum += x\n",
    "    outputDict[k] = sum\n",
    "\n",
    "map(int, uniqueValues)\n",
    "uniqueValues.sort()\n",
    "print(tuple(uniqueValues))\n",
    "print(outputDict)"
   ]
  },
  {
   "cell_type": "markdown",
   "metadata": {},
   "source": [
    "### Problem # 2\n",
    "Write a python program which prints the frequency of the numbers that were\n",
    "given as input by the user. Stop taking input when you find the string “STOP”. Do\n",
    "not print the frequency of numbers that were not given as input. Use a dictionary\n",
    "to solve the problem"
   ]
  },
  {
   "cell_type": "code",
   "execution_count": null,
   "metadata": {},
   "outputs": [],
   "source": [
    "inputDict = {}\n",
    "shouldContinue = True\n",
    "while shouldContinue:\n",
    "    userInput = input(\"Enter a number or say STOP: \")\n",
    "    if userInput == \"STOP\":\n",
    "        shouldContinue = False\n",
    "    elif userInput in inputDict.keys():\n",
    "        inputDict[userInput] += 1\n",
    "    else:\n",
    "        inputDict[userInput] = 1\n",
    "\n",
    "for k,v in inputDict.items():\n",
    "    print(\"{} - {} times\".format(k, v))"
   ]
  },
  {
   "cell_type": "markdown",
   "metadata": {},
   "source": [
    "### Problem # 3\n",
    "Write python code to invert a dictionary. It should print a dictionary where the keys\n",
    "are values from the input dictionary and the values are lists of keys from the input\n",
    "dictionary having the same value. Make sure the program handles multiple same\n",
    "values."
   ]
  },
  {
   "cell_type": "code",
   "execution_count": null,
   "metadata": {},
   "outputs": [],
   "source": [
    "userInput = input('Enter a comma separated dictionary: ')\n",
    "outputDict = {}\n",
    "\n",
    "for item in userInput.split(\",\"):\n",
    "    item = item.split(\":\")\n",
    "    key = item[0].strip()\n",
    "    value = item[1].strip()\n",
    "    if value in outputDict:\n",
    "        outputDict[value].append(key)\n",
    "    else:\n",
    "        outputDict[value] = [key]\n",
    "print(outputDict)"
   ]
  },
  {
   "cell_type": "markdown",
   "metadata": {},
   "source": [
    "### Problem # 4\n",
    "Two words are anagrams if they contain all of the same letters, but in a different\n",
    "order. For example, “evil” and “live” are anagrams because each contains one “e”,\n",
    "one “i”, one “l”, and one “v”.\n",
    "Write a program that reads two strings from the user and determines whether or not they\n",
    "are anagrams. Use a dictionary to solve the problem.\n"
   ]
  },
  {
   "cell_type": "code",
   "execution_count": null,
   "metadata": {},
   "outputs": [],
   "source": [
    "wordOne = input('Enter first word:')\n",
    "wordTwo = input('Enter second word:')\n",
    "if len(wordOne) == len(wordTwo):\n",
    "    isAnagram = True;\n",
    "    dictOne = {}\n",
    "    dictTwo = {}\n",
    "    for i in range(len(wordOne)):\n",
    "        dictOne[i] = wordOne[i]\n",
    "        dictTwo[i] = wordTwo[i]\n",
    "    for key,value in dictOne.items():\n",
    "        if value in dictTwo.values():\n",
    "            for k,v in dictTwo.items():\n",
    "                if v == value:\n",
    "                    del(dictTwo[k])\n",
    "                    break;\n",
    "        else:\n",
    "            isAnagram = False;\n",
    "            break;\n",
    "else:\n",
    "    isAnagram = False;\n",
    "print(\"Those strings are \" + (\"\" if isAnagram else \"NOT \") + \"anagrams.\")"
   ]
  },
  {
   "cell_type": "markdown",
   "metadata": {},
   "source": [
    "### Problem # 5\n",
    "On some basic cell phones, text messages can be sent using the numeric keypad.\n",
    "Because each key has multiple letters associated with it, multiple key presses are\n",
    "needed for most letters. Pressing the number once generates the first character listed\n",
    "for that key. Pressing the number 2, 3, 4 or 5 times generates the second, third, fourth\n",
    "or fifth character.\n",
    "\n",
    "    Key => Symbols\n",
    "    1   => .,?!:\n",
    "    2   => ABC\n",
    "    3   => DEF\n",
    "    4   => GHI\n",
    "    5   => JKL\n",
    "    6   => MNO\n",
    "    7   => PQRS\n",
    "    8   => TUV\n",
    "    9   => WXYZ\n",
    "    0   => Space\n",
    "\n",
    "Write a program that displays the key presses needed for a message entered by the user.\n",
    "Construct a dictionary that maps from each letter or symbol to the key presses needed to\n",
    "generate it. Then use the dictionary to create and display the presses needed for the user’s\n",
    "message."
   ]
  },
  {
   "cell_type": "code",
   "execution_count": null,
   "metadata": {},
   "outputs": [],
   "source": [
    "keys = {\n",
    "    \" \"     : 0,\n",
    "    \".,?!:\" : 1,\n",
    "    \"ABC\"   : 2,\n",
    "    \"DEF\"   : 3,\n",
    "    \"GHI\"   : 4,\n",
    "    \"JKL\"   : 5,\n",
    "    \"MNO\"   : 6,\n",
    "    \"PQRS\"  : 7,\n",
    "    \"TUV\"   : 8,\n",
    "    \"WXYZ\"  : 9\n",
    "}\n",
    "\n",
    "userInput = input(\"Enter your message: \")\n",
    "output = []\n",
    "for c in userInput:\n",
    "    for k, v in keys.items():\n",
    "        c = c.upper()\n",
    "        if c in k:\n",
    "            for i in range(k.find(c)+1):\n",
    "                output.append(v)\n",
    "print(output)"
   ]
  }
 ],
 "metadata": {
  "kernelspec": {
   "display_name": "Python 3",
   "language": "python",
   "name": "python3"
  },
  "language_info": {
   "codemirror_mode": {
    "name": "ipython",
    "version": 3
   },
   "file_extension": ".py",
   "mimetype": "text/x-python",
   "name": "python",
   "nbconvert_exporter": "python",
   "pygments_lexer": "ipython3",
   "version": "3.8.5"
  }
 },
 "nbformat": 4,
 "nbformat_minor": 4
}
